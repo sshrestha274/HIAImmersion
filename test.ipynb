{
 "cells": [
  {
   "cell_type": "code",
   "execution_count": 33,
   "metadata": {},
   "outputs": [
    {
     "data": {
      "text/html": [
       "<div>\n",
       "<style scoped>\n",
       "    .dataframe tbody tr th:only-of-type {\n",
       "        vertical-align: middle;\n",
       "    }\n",
       "\n",
       "    .dataframe tbody tr th {\n",
       "        vertical-align: top;\n",
       "    }\n",
       "\n",
       "    .dataframe thead th {\n",
       "        text-align: right;\n",
       "    }\n",
       "</style>\n",
       "<table border=\"1\" class=\"dataframe\">\n",
       "  <thead>\n",
       "    <tr style=\"text-align: right;\">\n",
       "      <th></th>\n",
       "      <th>ICD10CM</th>\n",
       "      <th>Description</th>\n",
       "    </tr>\n",
       "  </thead>\n",
       "  <tbody>\n",
       "    <tr>\n",
       "      <th>0</th>\n",
       "      <td>A000</td>\n",
       "      <td>Cholera due to Vibrio cholerae 01, biovar chol...</td>\n",
       "    </tr>\n",
       "    <tr>\n",
       "      <th>1</th>\n",
       "      <td>A001</td>\n",
       "      <td>Cholera due to Vibrio cholerae 01, biovar eltor</td>\n",
       "    </tr>\n",
       "    <tr>\n",
       "      <th>2</th>\n",
       "      <td>A009</td>\n",
       "      <td>Cholera, unspecified</td>\n",
       "    </tr>\n",
       "    <tr>\n",
       "      <th>3</th>\n",
       "      <td>A0100</td>\n",
       "      <td>Typhoid fever, unspecified</td>\n",
       "    </tr>\n",
       "    <tr>\n",
       "      <th>4</th>\n",
       "      <td>A0101</td>\n",
       "      <td>Typhoid meningitis</td>\n",
       "    </tr>\n",
       "  </tbody>\n",
       "</table>\n",
       "</div>"
      ],
      "text/plain": [
       "  ICD10CM                                        Description\n",
       "0    A000  Cholera due to Vibrio cholerae 01, biovar chol...\n",
       "1    A001    Cholera due to Vibrio cholerae 01, biovar eltor\n",
       "2    A009                               Cholera, unspecified\n",
       "3   A0100                         Typhoid fever, unspecified\n",
       "4   A0101                                 Typhoid meningitis"
      ]
     },
     "execution_count": 33,
     "metadata": {},
     "output_type": "execute_result"
    }
   ],
   "source": [
    "import pandas as pd\n",
    "columns = [\"ICD10CM\", \"Description\"]\n",
    "colspecs = [(0, 7), (8, None)]\n",
    "icd10_codes = pd.read_fwf(\"icd10cm-codes-2024.txt\",colspecs=colspecs, header=None,  names=columns, index_col=False)\n",
    "\n",
    "icd10_codes.head()"
   ]
  },
  {
   "cell_type": "code",
   "execution_count": 56,
   "metadata": {},
   "outputs": [],
   "source": [
    "icd10cm_dict = icd10_codes.set_index('ICD10CM')['Description'].to_dict()"
   ]
  },
  {
   "cell_type": "code",
   "execution_count": 62,
   "metadata": {},
   "outputs": [
    {
     "ename": "KeyError",
     "evalue": "0",
     "output_type": "error",
     "traceback": [
      "\u001b[1;31m---------------------------------------------------------------------------\u001b[0m",
      "\u001b[1;31mKeyError\u001b[0m                                  Traceback (most recent call last)",
      "\u001b[1;32mc:\\Users\\sshres07\\Box\\TestFolder\\HIAImmersion\\test.ipynb Cell 3\u001b[0m line \u001b[0;36m1\n\u001b[1;32m----> <a href='vscode-notebook-cell:/c%3A/Users/sshres07/Box/TestFolder/HIAImmersion/test.ipynb#W2sZmlsZQ%3D%3D?line=0'>1</a>\u001b[0m icd10cm_dict[\u001b[39m0\u001b[39;49m][\u001b[39m0\u001b[39m]\n",
      "\u001b[1;31mKeyError\u001b[0m: 0"
     ]
    }
   ],
   "source": [
    "\n"
   ]
  },
  {
   "cell_type": "code",
   "execution_count": 65,
   "metadata": {},
   "outputs": [],
   "source": [
    "CPT_codes = pd.read_csv(\"2022_DHS_Code_List_Addendum_10_28_21/CPT_codes.csv\")\n",
    "CPT_codes.head()\n",
    "CPTcode_dict = CPT_codes.set_index('CPT_code')['Description'].to_dict()"
   ]
  },
  {
   "cell_type": "code",
   "execution_count": 66,
   "metadata": {},
   "outputs": [
    {
     "data": {
      "text/plain": [
       "'77370'"
      ]
     },
     "execution_count": 66,
     "metadata": {},
     "output_type": "execute_result"
    }
   ],
   "source": [
    "import random\n",
    "random.choice(CPT_codes['CPT_code'])"
   ]
  },
  {
   "cell_type": "code",
   "execution_count": 68,
   "metadata": {},
   "outputs": [
    {
     "data": {
      "image/png": "[encoded data removed]",
      "text/plain": [
       "<Figure size 640x480 with 1 Axes>"
      ]
     },
     "metadata": {},
     "output_type": "display_data"
    }
   ],
   "source": [
    "import matplotlib.pyplot as plt\n",
    "import numpy as np\n",
    "\n",
    "# Function to plot a circle with divisions and labels\n",
    "def plot_circle(ax, center, radius, divisions, labels, colors):\n",
    "    # Create a circle\n",
    "    circle = plt.Circle(center, radius, fill=False)\n",
    "    ax.add_artist(circle)\n",
    "\n",
    "    # Calculate the angle between divisions\n",
    "    angle = 2 * np.pi / divisions\n",
    "\n",
    "    for i in range(divisions):\n",
    "        # Calculate the coordinates for the label\n",
    "        x = center[0] + (radius + 0.1) * np.cos(i * angle + np.pi / divisions)\n",
    "        y = center[1] + (radius + 0.1) * np.sin(i * angle + np.pi / divisions)\n",
    "\n",
    "        # Add a label with color\n",
    "        ax.text(x, y, labels[i], color=colors[i], ha='center', va='center')\n",
    "\n",
    "# Create a figure and axis\n",
    "fig, ax = plt.subplots()\n",
    "\n",
    "# Define the center and radius of the outer circle\n",
    "outer_center = (0, 0)\n",
    "outer_radius = 1\n",
    "\n",
    "# Define the number of divisions for the outer circle\n",
    "outer_divisions = 9\n",
    "\n",
    "# Labels and colors for the outer circle\n",
    "outer_labels = ['A', 'B', 'C', 'D', 'E', 'F', 'G', 'H', 'I']\n",
    "outer_colors = ['red', 'green', 'blue', 'orange', 'purple', 'cyan', 'magenta', 'pink', 'brown']\n",
    "\n",
    "# Plot the outer circle\n",
    "plot_circle(ax, outer_center, outer_radius, outer_divisions, outer_labels, outer_colors)\n",
    "\n",
    "# Define the center and radius of the inner circle\n",
    "inner_center = (0, 0)\n",
    "inner_radius = 0.6\n",
    "\n",
    "# Define the number of divisions for the inner circle\n",
    "inner_divisions = 3\n",
    "\n",
    "# Labels and colors for the inner circle\n",
    "inner_labels = ['1', '2', '3']\n",
    "inner_colors = ['yellow', 'lime', 'turquoise']\n",
    "\n",
    "# Plot the inner circle\n",
    "plot_circle(ax, inner_center, inner_radius, inner_divisions, inner_labels, inner_colors)\n",
    "\n",
    "# Set axis limits\n",
    "ax.set_xlim(-1.2, 1.2)\n",
    "ax.set_ylim(-1.2, 1.2)\n",
    "\n",
    "# Set equal aspect ratio\n",
    "ax.set_aspect('equal')\n",
    "\n",
    "# Remove axis labels and ticks\n",
    "ax.axis('off')\n",
    "\n",
    "# Show the plot\n",
    "plt.show()"
   ]
  },
  {
   "cell_type": "code",
   "execution_count": 69,
   "metadata": {},
   "outputs": [
    {
     "data": {
      "image/png": "[encoded data removed]",
      "text/plain": [
       "<Figure size 640x480 with 1 Axes>"
      ]
     },
     "metadata": {},
     "output_type": "display_data"
    }
   ],
   "source": [
    "import matplotlib.pyplot as plt\n",
    "import numpy as np\n",
    "\n",
    "# Function to plot a circle with divisions and labels\n",
    "def plot_circle(ax, center, radius, divisions, labels, colors):\n",
    "    # Create a circle\n",
    "    circle = plt.Circle(center, radius, fill=False)\n",
    "    ax.add_artist(circle)\n",
    "\n",
    "    # Calculate the angle between divisions\n",
    "    angle = 2 * np.pi / divisions\n",
    "\n",
    "    for i in range(divisions):\n",
    "        # Calculate the coordinates for the label\n",
    "        x = center[0] + (radius + 0.1) * np.cos(i * angle + np.pi / divisions)\n",
    "        y = center[1] + (radius + 0.1) * np.sin(i * angle + np.pi / divisions)\n",
    "\n",
    "        # Add a label with color\n",
    "        ax.text(x, y, labels[i], color=colors[i], ha='center', va='center')\n",
    "\n",
    "# Create a figure and axis\n",
    "fig, ax = plt.subplots()\n",
    "\n",
    "# Define the center and radius of the outer circle\n",
    "outer_center = (0, 0)\n",
    "outer_radius = 1\n",
    "\n",
    "# Define the number of divisions for the outer circle\n",
    "outer_divisions = 3\n",
    "\n",
    "# Labels and colors for the outer circle\n",
    "outer_labels = ['A', 'B', 'C']\n",
    "outer_colors = ['red', 'green', 'blue']\n",
    "\n",
    "# Plot the outer circle\n",
    "plot_circle(ax, outer_center, outer_radius, outer_divisions, outer_labels, outer_colors)\n",
    "\n",
    "# Define the center and radius of the inner circle\n",
    "inner_center = (0, 0)\n",
    "inner_radius = 0.6\n",
    "\n",
    "# Define the number of divisions for the inner circle\n",
    "inner_divisions = 3\n",
    "\n",
    "# Labels and colors for the inner circle\n",
    "inner_labels = ['1', '2', '3']\n",
    "inner_colors = ['yellow', 'lime', 'turquoise']\n",
    "\n",
    "# Plot the inner circle\n",
    "plot_circle(ax, inner_center, inner_radius, inner_divisions, inner_labels, inner_colors)\n",
    "\n",
    "# Set axis limits\n",
    "ax.set_xlim(-1.2, 1.2)\n",
    "ax.set_ylim(-1.2, 1.2)\n",
    "\n",
    "# Set equal aspect ratio\n",
    "ax.set_aspect('equal')\n",
    "\n",
    "# Remove axis labels and ticks\n",
    "ax.axis('off')\n",
    "\n",
    "# Show the plot\n",
    "plt.show()\n"
   ]
  },
  {
   "cell_type": "code",
   "execution_count": 82,
   "metadata": {},
   "outputs": [
    {
     "data": {
      "text/plain": [
       "'Non Hispanic White'"
      ]
     },
     "execution_count": 82,
     "metadata": {},
     "output_type": "execute_result"
    }
   ],
   "source": [
    "race_ethnicity = [\"Non Hispanic White\", \"Hispanic White\", \"Non Hispanic White\", \"Non Hispanic Black\", \"Asian American and Pacific Islanders\", \"Others\"]\n",
    "\n",
    "random.choice(race_ethnicity)"
   ]
  },
  {
   "cell_type": "code",
   "execution_count": null,
   "metadata": {},
   "outputs": [],
   "source": []
  }
 ],
 "metadata": {
  "kernelspec": {
   "display_name": "venv",
   "language": "python",
   "name": "python3"
  },
  "language_info": {
   "codemirror_mode": {
    "name": "ipython",
    "version": 3
   },
   "file_extension": ".py",
   "mimetype": "text/x-python",
   "name": "python",
   "nbconvert_exporter": "python",
   "pygments_lexer": "ipython3",
   "version": "3.11.4"
  },
  "orig_nbformat": 4
 },
 "nbformat": 4,
 "nbformat_minor": 2
}
